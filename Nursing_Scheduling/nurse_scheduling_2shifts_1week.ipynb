{
 "cells": [
  {
   "cell_type": "markdown",
   "metadata": {},
   "source": [
    "# Nurse scheduling problem \n",
    "\n",
    "## Implementing linear programming  algorithm to solve the NP-hard nurse scheduling problem. \n",
    "\n",
    "\n",
    "### Some basic constraints and assumptions:\n",
    "\n",
    "* Each day is divided into 2 separate shifts of 12 hours (day/night).\n",
    "\n",
    "* There are a number of required nurses for each of them. \n",
    "\n",
    "* A nurse is off on a specific day if no shift is assigned or if the nurse has requested a PTO on that specific day. \n",
    "\n",
    "* The planning length is 4 weeks (28 days). \n",
    "    \n",
    "    * In this notebook, used 1 week instead for the purpose of convenience and easy visualization.\n",
    "\n",
    "* Each nurse should work either 12, 24 or 36 hours hours per week.\n",
    "\n",
    "\n",
    "### I personally add few more constraints:\n",
    "\n",
    "* No nurse will work on both shifts in the single day.\n",
    "\n",
    "* A nurse who works on a nigth shift will take the next day off.\n",
    "\n",
    "* Max numbers of night shift for each nurse is at most ONE."
   ]
  },
  {
   "cell_type": "code",
   "execution_count": 15,
   "metadata": {
    "collapsed": false
   },
   "outputs": [],
   "source": [
    "import pandas as pd\n",
    "import numpy as np\n",
    "import scipy as sp\n",
    "import seaborn as sns\n",
    "import matplotlib.pyplot as plt\n",
    "from pandas.tools.plotting import table\n",
    "import os, sys, json\n",
    "from pulp import *\n",
    "\n",
    "%matplotlib inline"
   ]
  },
  {
   "cell_type": "markdown",
   "metadata": {},
   "source": [
    "## Model:\n",
    "\n",
    "* Essential idea is to introduce a binary variable ***x_ns*** in order to linearize the model\n",
    "\n",
    "* Constraints and objective function can be represented as equality and inequality equations.\n",
    "\n",
    "\\begin{align}\n",
    "    x_{ns}= \n",
    "        \\begin{cases}\n",
    "            0, &\\text{nurse n will not work on shift s}\\ \\\\\n",
    "            1, &\\text{nurse n will work on shift s}\\\n",
    "        \\end{cases}\n",
    "\\end{align}\n",
    "\n",
    "* s: each shift\n",
    "\n",
    "* n: each nurse\n",
    "\n",
    "* r: list storing the required nurses in each day.\n",
    "\n",
    "\n",
    "\\begin{align}\n",
    "    \\text{r} = [\\text{number of nurses required in specific shift s}] \\\\\n",
    "    \\text{r[even index]} = [\\text{number of nurses required in day shifts}] \\\\\n",
    "    \\text{r[odd index]} = [\\text{number of nurses required in night shifts}] \n",
    "\\end{align}\n",
    "\n",
    "* PTO = Dictionary which stores the information of the off-work shifts(nurses requested PTO or other reasons)\n",
    "\n",
    "\\begin{align}\n",
    "    \\text{PTO} = \\{n : [\\text{list of off-work shifts for nurse n}]\\}\n",
    "\\end{align}\n",
    "\n",
    "\n",
    "* daily_shift: [0, 1] in this case(day = 0 /night = 1).\n",
    "\n",
    "* working_shift = [1,2,3]: nurse works either 12, 24, 36 hours per week.\n",
    "\n",
    "* planning_length: in this notebook, planning_length = 1. \n",
    "\n",
    "* Objective: minimize the numbers of scheduled nurses by satisfying all constraints. \n",
    "\n",
    "* Later on, preference of specific shifts/nurse and other constraints can be customized. \n",
    "\n",
    "* Implementing linear programming with pulp python package to find the solution of this constrained optimization problem. "
   ]
  },
  {
   "cell_type": "markdown",
   "metadata": {},
   "source": [
    "## Initializing the parameters"
   ]
  },
  {
   "cell_type": "code",
   "execution_count": 26,
   "metadata": {
    "collapsed": false
   },
   "outputs": [
    {
     "name": "stdout",
     "output_type": "stream",
     "text": [
      "The number of nurses required for each shift is:\n",
      "[5 3 5 3 5 3 5 3 5 3 5 3 5 3]\n",
      "\n",
      "In matrix form:\n",
      "   M Tu  W Th  F Sa Su\n",
      "0  5  5  5  5  5  5  5\n",
      "1  3  3  3  3  3  3  3\n",
      "\n",
      "Total number of nurses are: 22\n",
      "\n",
      "The nurses are: \n",
      "['nurse0', 'nurse1', 'nurse2', 'nurse3', 'nurse4', 'nurse5', 'nurse6', 'nurse7', 'nurse8', 'nurse9', 'nurse10', 'nurse11', 'nurse12', 'nurse13', 'nurse14', 'nurse15', 'nurse16', 'nurse17', 'nurse18', 'nurse19', 'nurse20', 'nurse21']\n"
     ]
    }
   ],
   "source": [
    "# nurse works either 12, 24, 36 hours per week.\n",
    "working_shift = [1, 2, 3] \n",
    "\n",
    "# maximum shifts that nurse will work\n",
    "max_shifts = 3\n",
    "\n",
    "# planning_length\n",
    "planning_length = 1 \n",
    "\n",
    "# Numbers of shift per day:\n",
    "daily_shift = [0, 1]\n",
    "\n",
    "# Label the days from Monday to Sunday. \n",
    "d = ['M', 'Tu', 'W', 'Th', 'F','Sa','Su']\n",
    "\n",
    "# Create the require_nurses dataframe\n",
    "# day_nurse: Number of nurses required in day shift.\n",
    "# night_nurse: Number of nurses required in night shift.\n",
    "col = range(0, 7*planning_length)\n",
    "\n",
    "require_nurses = pd.DataFrame(data = None, columns=d, index = daily_shift)\n",
    "\n",
    "for j in col:\n",
    "    # Small number is better for visualization.\n",
    "    day_nurse, night_nurse = 5, 3\n",
    "    require_nurses.iloc[0][j] = day_nurse\n",
    "    require_nurses.iloc[1][j] = night_nurse\n",
    "\n",
    "# List of number of nurses required in specific shift s\n",
    "\n",
    "# r[even index]: required nurses in day shift\n",
    "# r[odd index]: required nurses in night shift\n",
    "r = require_nurses.values.swapaxes(0,1).ravel()\n",
    "\n",
    "print \"The number of nurses required for each shift is:\" \n",
    "print r\n",
    "\n",
    "print \"\\nIn matrix form:\" \n",
    "print require_nurses.head()\n",
    "\n",
    "\n",
    "# Total number of the nurses, at least more than sum(r)/3. Here use sum(r)/2.5\n",
    "total = int(sum(r)/2.5)\n",
    "print \"\\nTotal number of nurses are: {}\".format(total)\n",
    "\n",
    "# Create nurses_id tag\n",
    "nurses_id = ['nurse'+str(i) for i in range(total)]\n",
    "print \"\\nThe nurses are: \"\n",
    "print nurses_id"
   ]
  },
  {
   "cell_type": "markdown",
   "metadata": {},
   "source": [
    "## Nurse is off on specific shifts: PTO dictionary"
   ]
  },
  {
   "cell_type": "code",
   "execution_count": 27,
   "metadata": {
    "collapsed": false
   },
   "outputs": [
    {
     "name": "stdout",
     "output_type": "stream",
     "text": [
      "{u'10': [3], u'15': [2], u'0': [1], u'3': [12, 10], u'2': [0], u'5': [1], u'4': [7, 13]}\n"
     ]
    }
   ],
   "source": [
    "# nurse has requested a PTO on that specific day or whatever reasons. \n",
    "\n",
    "with open('utils/off_shift.json', 'r') as fp:\n",
    "    off_shift = json.load(fp)\n",
    "    \n",
    "print off_shift"
   ]
  },
  {
   "cell_type": "markdown",
   "metadata": {},
   "source": [
    "## Shifts and nurses lists"
   ]
  },
  {
   "cell_type": "code",
   "execution_count": 28,
   "metadata": {
    "collapsed": false
   },
   "outputs": [
    {
     "name": "stdout",
     "output_type": "stream",
     "text": [
      "The shifts are: \n",
      "[0, 1, 2, 3, 4, 5, 6, 7, 8, 9, 10, 11, 12, 13]\n",
      "\n",
      "The names of corresponding shifts are: \n",
      "['M_d', 'M_n', 'Tu_d', 'Tu_n', 'W_d', 'W_n', 'Th_d', 'Th_n', 'F_d', 'F_n', 'Sa_d', 'Sa_n', 'Su_d', 'Su_n']\n",
      "\n",
      "The nurses are: \n",
      "[0, 1, 2, 3, 4, 5, 6, 7, 8, 9, 10, 11, 12, 13, 14, 15, 16, 17, 18, 19, 20, 21]\n"
     ]
    }
   ],
   "source": [
    "'''\n",
    "shifts: label each shift. For example: Monday day shift is 0, Monday night shift is 1, Tuesday day shift is 2, etc.\n",
    "nurses: label each nurse. Simply use integers to represent.\n",
    "'''\n",
    "\n",
    "shifts = range(2*7*planning_length)\n",
    "nurses = range(total)\n",
    "\n",
    "## Create shift names based on index:\n",
    "shift_name = []\n",
    "for s in shifts:\n",
    "    # find the day shift or night shift\n",
    "    n_or_day = 'n' if s%2 else 'd' \n",
    "    shift_name.append(d[s/2] + '_' + n_or_day)\n",
    "    \n",
    "print \"The shifts are: \" \n",
    "print shifts\n",
    "\n",
    "print \"\\nThe names of corresponding shifts are: \"\n",
    "print shift_name\n",
    "\n",
    "print \"\\nThe nurses are: \"\n",
    "print nurses"
   ]
  },
  {
   "cell_type": "markdown",
   "metadata": {},
   "source": [
    "## Build constraint models:\n",
    "\n",
    "* var = pulp.LpVariable(name, lowbound, upbound, cat=\"Binary\")\n",
    "\n",
    "* pb = pulp.LpProblem(name_str, sense = 'LpMaximize' or LpMinimize)\n",
    "\n",
    "\n",
    "* problem.solve(pulp.solvers.GLPK(msg=0))\n",
    "\n",
    "* check status: pulp.LpStatus(pb.status)\n",
    "\n",
    "* pulp.value(pb.objective)\n",
    "\n",
    "* Optimal solution: var.varValue"
   ]
  },
  {
   "cell_type": "code",
   "execution_count": 44,
   "metadata": {
    "collapsed": false
   },
   "outputs": [],
   "source": [
    "def LpProb():\n",
    "\n",
    "    '''\n",
    "    Use pulp to solve the constrained problem using linear programming(LP) algorithm. \n",
    "    1. Start the instance of a LpProblem: pulp.LpProblem(name_str, sense = 'LpMaxmize' or 'LpMinimize')\n",
    "    2. Create LpVariables. Binary category in this case\n",
    "    3. Add constraints in either equality or inequality conditions.\n",
    "    4. Building objective using LpObjective. \n",
    "    5. Use Solver to solve the problem, display the status and optimized values.\n",
    "    '''\n",
    "\n",
    "    # The prob variable is created to contain the problem data   \n",
    "    prob = LpProblem(\"Nurse scheduling\",LpMinimize)\n",
    "    \n",
    "    # Creating the variables. \n",
    "    var = {\n",
    "     (n, s): pulp.LpVariable(\n",
    "        \"schdule_{0}_{1}\".format(n, s), cat = \"Binary\")\n",
    "        for n in nurses for s in shifts\n",
    "    }\n",
    "\n",
    "    \n",
    "    # add constraints: \n",
    "    # Nurses do not work in two consecutive shifts\n",
    "    # If nurse works for a night shift, he/she will take a next day off\n",
    "\n",
    "    for n in nurses:\n",
    "        for s in shifts:\n",
    "            if s%2 == 0:\n",
    "                prob.addConstraint(\n",
    "                var[(n,s)] + var[(n, s+1)] <= 1  # for day shift\n",
    "               )\n",
    "            elif s%2 == 1 and s < shifts[-1]:\n",
    "                # night shift. Do not forget to add condition that the last\n",
    "                # shift in the scheduling does not count.\n",
    "                prob.addConstraint(\n",
    "                var[(n, s)] + var[(n, s+1)]+var[(n, s+2)] <= 1\n",
    "                )\n",
    "\n",
    "    # add constraints:\n",
    "    # Request PTO or take a specific day off:\n",
    "    for n in nurses:\n",
    "        if str(n) in off_shift:\n",
    "            for s in off_shift[str(n)]:\n",
    "                prob.addConstraint(\n",
    "                var[(n, s)] == 0\n",
    "                )\n",
    "\n",
    "    # add constraints:\n",
    "    # Working shift is either 1, 2 or 3\n",
    "    # Here the first calculation is based on \n",
    "    for n in nurses:\n",
    "        prob.addConstraint(\n",
    "        sum(var[(n,s)] for s in shifts) <= 3    \n",
    "        )\n",
    "        prob.addConstraint(\n",
    "        sum(var[(n,s)] for s in shifts) >= 1\n",
    "        )\n",
    "\n",
    "    # add constraints\n",
    "    # Max numbers of night shift is one for each nurse\n",
    "\n",
    "    for n in nurses:\n",
    "        prob.addConstraint(\n",
    "        sum(var[(n, s)] for s in shifts if s%2) <= 1\n",
    "        )\n",
    "    # add constraints\n",
    "    # for each shift, the numbers of working nurses should be greater than\n",
    "    # the required numbers of nurses\n",
    "    for s in shifts:\n",
    "        try:\n",
    "            prob.addConstraint(\n",
    "            sum(var[(n,s)] for n in nurses) >= r[s]\n",
    "            )\n",
    "        except:\n",
    "            print \"len(shifts) should be equal to len(require_nurses)\"\n",
    "            sys.exit(-1)   \n",
    "\n",
    "            \n",
    "    # add objective: minimize the numbers of total nurses required\n",
    "    # nurse_working = []\n",
    "    # for s in shifts:\n",
    "    #     nurse_shift = sum(var[(n, s)] for n in nurses)\n",
    "    #     nurse_working.append(\n",
    "    #     pulp.LpVariable(\"nurses_%d\"%(s,), cat = 'Integer', lowBound = 0)\n",
    "    #     )\n",
    "    prob.objective = sum(var[(n,s)] for n in nurses for s in shifts)    \n",
    "    \n",
    "    return var, prob"
   ]
  },
  {
   "cell_type": "code",
   "execution_count": 45,
   "metadata": {
    "collapsed": false
   },
   "outputs": [
    {
     "name": "stdout",
     "output_type": "stream",
     "text": [
      "Optimal\n"
     ]
    }
   ],
   "source": [
    "## Run the solver\n",
    "\n",
    "var, prob = LpProb()\n",
    "prob.solve()\n",
    "print LpStatus[prob.status]"
   ]
  },
  {
   "cell_type": "markdown",
   "metadata": {
    "collapsed": true
   },
   "source": [
    "## Check Constraints"
   ]
  },
  {
   "cell_type": "code",
   "execution_count": 60,
   "metadata": {
    "collapsed": false
   },
   "outputs": [
    {
     "name": "stdout",
     "output_type": "stream",
     "text": [
      "Check the off_shift constraint: True\n"
     ]
    }
   ],
   "source": [
    "def check_off_shift():\n",
    "    # return True if the constraints have been satisfied otherwise return False\n",
    "\n",
    "    for n in nurses:\n",
    "        if str(n) in off_shift:\n",
    "            for s in off_shift[str(n)]:\n",
    "                if value(var[(n,s)]) == 1:\n",
    "                    print n, s\n",
    "                    return False\n",
    "\n",
    "    for n in nurses:\n",
    "        for s in shifts:\n",
    "            if s%2 == 0:\n",
    "                if value(var[(n,s)]) + value(var[(n, s+1)]) > 1:\n",
    "                    return False  # for day shift\n",
    "            elif s%2 == 1 and s < shifts[-1]:\n",
    "                if value(var[(n,s)]) + value(var[(n,s+1)]) + value(var[(n, s+2)]) > 1:\n",
    "                    return False\n",
    "\n",
    "    for n in nurses:\n",
    "        tmp = sum(value(var[(n,s)]) for s in shifts) \n",
    "        if tmp > 3 or tmp < 1:\n",
    "            return False\n",
    "\n",
    "    for n in nurses:\n",
    "        if sum(value(var[(n, s)]) for s in shifts if s%2) > 1:\n",
    "            return False\n",
    "\n",
    "    for s in shifts:\n",
    "        try:\n",
    "            if sum(value(var[(n,s)]) for n in nurses) < r[s]:\n",
    "                return False\n",
    "        except:\n",
    "            print \"len(shifts) should be equal to len(require_nurses)\"\n",
    "            sys.exit(-1)   \n",
    "\n",
    "    return True\n",
    "\n",
    "\n",
    "\n",
    "print \"Check the off_shift constraint: {}\".format(check_off_shift())"
   ]
  },
  {
   "cell_type": "markdown",
   "metadata": {},
   "source": [
    "## Find the schedule for all nurses"
   ]
  },
  {
   "cell_type": "code",
   "execution_count": 46,
   "metadata": {
    "collapsed": false
   },
   "outputs": [],
   "source": [
    "def nurse_scheduling(var = var):\n",
    "\n",
    "    schedule = pd.DataFrame(data=None, index = nurses_id, columns = shift_name)\n",
    "    \n",
    "    for k, v in var.items():\n",
    "        n, s = k[0], k[1]\n",
    "        schedule.iloc[n][s] = int(value(v)) # pulp.value()\n",
    "        \n",
    "    return schedule"
   ]
  },
  {
   "cell_type": "code",
   "execution_count": 47,
   "metadata": {
    "collapsed": false
   },
   "outputs": [
    {
     "data": {
      "text/html": [
       "<div>\n",
       "<table border=\"1\" class=\"dataframe\">\n",
       "  <thead>\n",
       "    <tr style=\"text-align: right;\">\n",
       "      <th></th>\n",
       "      <th>M_d</th>\n",
       "      <th>M_n</th>\n",
       "      <th>Tu_d</th>\n",
       "      <th>Tu_n</th>\n",
       "      <th>W_d</th>\n",
       "      <th>W_n</th>\n",
       "      <th>Th_d</th>\n",
       "      <th>Th_n</th>\n",
       "      <th>F_d</th>\n",
       "      <th>F_n</th>\n",
       "      <th>Sa_d</th>\n",
       "      <th>Sa_n</th>\n",
       "      <th>Su_d</th>\n",
       "      <th>Su_n</th>\n",
       "    </tr>\n",
       "  </thead>\n",
       "  <tbody>\n",
       "    <tr>\n",
       "      <th>nurse0</th>\n",
       "      <td>1</td>\n",
       "      <td>0</td>\n",
       "      <td>1</td>\n",
       "      <td>0</td>\n",
       "      <td>0</td>\n",
       "      <td>0</td>\n",
       "      <td>0</td>\n",
       "      <td>0</td>\n",
       "      <td>0</td>\n",
       "      <td>1</td>\n",
       "      <td>0</td>\n",
       "      <td>0</td>\n",
       "      <td>0</td>\n",
       "      <td>0</td>\n",
       "    </tr>\n",
       "    <tr>\n",
       "      <th>nurse1</th>\n",
       "      <td>0</td>\n",
       "      <td>1</td>\n",
       "      <td>0</td>\n",
       "      <td>0</td>\n",
       "      <td>0</td>\n",
       "      <td>0</td>\n",
       "      <td>1</td>\n",
       "      <td>0</td>\n",
       "      <td>1</td>\n",
       "      <td>0</td>\n",
       "      <td>0</td>\n",
       "      <td>0</td>\n",
       "      <td>0</td>\n",
       "      <td>0</td>\n",
       "    </tr>\n",
       "    <tr>\n",
       "      <th>nurse2</th>\n",
       "      <td>0</td>\n",
       "      <td>1</td>\n",
       "      <td>0</td>\n",
       "      <td>0</td>\n",
       "      <td>1</td>\n",
       "      <td>0</td>\n",
       "      <td>1</td>\n",
       "      <td>0</td>\n",
       "      <td>0</td>\n",
       "      <td>0</td>\n",
       "      <td>0</td>\n",
       "      <td>0</td>\n",
       "      <td>0</td>\n",
       "      <td>0</td>\n",
       "    </tr>\n",
       "    <tr>\n",
       "      <th>nurse3</th>\n",
       "      <td>0</td>\n",
       "      <td>0</td>\n",
       "      <td>1</td>\n",
       "      <td>0</td>\n",
       "      <td>0</td>\n",
       "      <td>0</td>\n",
       "      <td>0</td>\n",
       "      <td>0</td>\n",
       "      <td>0</td>\n",
       "      <td>0</td>\n",
       "      <td>0</td>\n",
       "      <td>0</td>\n",
       "      <td>0</td>\n",
       "      <td>1</td>\n",
       "    </tr>\n",
       "    <tr>\n",
       "      <th>nurse4</th>\n",
       "      <td>0</td>\n",
       "      <td>0</td>\n",
       "      <td>0</td>\n",
       "      <td>0</td>\n",
       "      <td>0</td>\n",
       "      <td>0</td>\n",
       "      <td>1</td>\n",
       "      <td>0</td>\n",
       "      <td>1</td>\n",
       "      <td>0</td>\n",
       "      <td>0</td>\n",
       "      <td>0</td>\n",
       "      <td>1</td>\n",
       "      <td>0</td>\n",
       "    </tr>\n",
       "  </tbody>\n",
       "</table>\n",
       "</div>"
      ],
      "text/plain": [
       "       M_d M_n Tu_d Tu_n W_d W_n Th_d Th_n F_d F_n Sa_d Sa_n Su_d Su_n\n",
       "nurse0   1   0    1    0   0   0    0    0   0   1    0    0    0    0\n",
       "nurse1   0   1    0    0   0   0    1    0   1   0    0    0    0    0\n",
       "nurse2   0   1    0    0   1   0    1    0   0   0    0    0    0    0\n",
       "nurse3   0   0    1    0   0   0    0    0   0   0    0    0    0    1\n",
       "nurse4   0   0    0    0   0   0    1    0   1   0    0    0    1    0"
      ]
     },
     "execution_count": 47,
     "metadata": {},
     "output_type": "execute_result"
    }
   ],
   "source": [
    "schedule = nurse_scheduling()\n",
    "\n",
    "schedule.head(5)"
   ]
  },
  {
   "cell_type": "markdown",
   "metadata": {},
   "source": [
    "## Find out the schedule for each nurse"
   ]
  },
  {
   "cell_type": "code",
   "execution_count": 48,
   "metadata": {
    "collapsed": false
   },
   "outputs": [],
   "source": [
    "# Input the nurse id\n",
    "\n",
    "def schedule_which_nurse(nurseWho, table = var):\n",
    "    \n",
    "    '''\n",
    "    nurseWho: nurse id\n",
    "    table: Either the schedule dataframe or the linear programming solution\n",
    "    inputType: if 'lp': use linear programming solution\n",
    "               else: the dataframe\n",
    "    '''\n",
    "    # Get the data for scheduling nurse n:\n",
    "    sch = []\n",
    "       \n",
    "    for s in shifts:\n",
    "        sch.append(\n",
    "            int(value(table[(nurseWho, s)]))\n",
    "            )\n",
    "    \n",
    "    sch = np.array(sch).reshape(len(sch)/2, 2).swapaxes(0, 1)\n",
    "    \n",
    "    df_sch = pd.DataFrame(sch, index = ['day', 'night'], columns = d)\n",
    "    \n",
    "    return df_sch\n",
    "    "
   ]
  },
  {
   "cell_type": "code",
   "execution_count": 49,
   "metadata": {
    "collapsed": false
   },
   "outputs": [
    {
     "name": "stdout",
     "output_type": "stream",
     "text": [
      "The schedule for the nurse0 is:\n"
     ]
    },
    {
     "data": {
      "text/html": [
       "<div>\n",
       "<table border=\"1\" class=\"dataframe\">\n",
       "  <thead>\n",
       "    <tr style=\"text-align: right;\">\n",
       "      <th></th>\n",
       "      <th>M</th>\n",
       "      <th>Tu</th>\n",
       "      <th>W</th>\n",
       "      <th>Th</th>\n",
       "      <th>F</th>\n",
       "      <th>Sa</th>\n",
       "      <th>Su</th>\n",
       "    </tr>\n",
       "  </thead>\n",
       "  <tbody>\n",
       "    <tr>\n",
       "      <th>day</th>\n",
       "      <td>1</td>\n",
       "      <td>1</td>\n",
       "      <td>0</td>\n",
       "      <td>0</td>\n",
       "      <td>0</td>\n",
       "      <td>0</td>\n",
       "      <td>0</td>\n",
       "    </tr>\n",
       "    <tr>\n",
       "      <th>night</th>\n",
       "      <td>0</td>\n",
       "      <td>0</td>\n",
       "      <td>0</td>\n",
       "      <td>0</td>\n",
       "      <td>1</td>\n",
       "      <td>0</td>\n",
       "      <td>0</td>\n",
       "    </tr>\n",
       "  </tbody>\n",
       "</table>\n",
       "</div>"
      ],
      "text/plain": [
       "       M  Tu  W  Th  F  Sa  Su\n",
       "day    1   1  0   0  0   0   0\n",
       "night  0   0  0   0  1   0   0"
      ]
     },
     "execution_count": 49,
     "metadata": {},
     "output_type": "execute_result"
    }
   ],
   "source": [
    "nurse0 = schedule_which_nurse(0)\n",
    "\n",
    "print \"The schedule for the nurse0 is:\"\n",
    "\n",
    "nurse0"
   ]
  },
  {
   "cell_type": "markdown",
   "metadata": {},
   "source": [
    "## Visualize the schedule"
   ]
  },
  {
   "cell_type": "code",
   "execution_count": 50,
   "metadata": {
    "collapsed": true
   },
   "outputs": [],
   "source": [
    "def plot_table(df, figSize = (4,2), saveFig = False, figTitle = 'nurse_scheduling'):\n",
    "     \n",
    "    colors = df.applymap(lambda x: 'lightgray' if x== 0 else 'lightcoral') \n",
    "\n",
    "    fig = plt.figure(figsize=figSize)\n",
    "\n",
    "    ax = plt.subplot(2, 1, 1, frame_on = True)  # no visible frame\n",
    "    #ax.xaxis.set_visible(False)  # hide the x axis\n",
    "    #ax.yaxis.set_visible(False)\n",
    "    ax.axis('off')\n",
    "\n",
    "    tb1 = table(ax,df,\n",
    "                loc='center',\n",
    "                cellLoc='center',\n",
    "                cellColours=colors.as_matrix(),\n",
    "                fontsize=14\n",
    "          )\n",
    "\n",
    "    if saveFig == True:\n",
    "        if not os.path.isdir('figs/notebook/'):\n",
    "            os.mkdir('figs/notebook/')\n",
    "        plt.savefig('figs/notebook/'+ figTitle +'.png', bbox_inches='tight', dpi = 150)\n",
    "\n",
    "    # refresh the plot\n",
    "    plt.show()"
   ]
  },
  {
   "cell_type": "code",
   "execution_count": 51,
   "metadata": {
    "collapsed": false
   },
   "outputs": [
    {
     "name": "stdout",
     "output_type": "stream",
     "text": [
      "The schedule of all nurses: \n"
     ]
    },
    {
     "data": {
      "image/png": "[encoded data removed]",
      "text/plain": [
       "<matplotlib.figure.Figure at 0x7f1445b2de10>"
      ]
     },
     "metadata": {},
     "output_type": "display_data"
    },
    {
     "name": "stdout",
     "output_type": "stream",
     "text": [
      "The required nurses are: \n",
      "[5 3 5 3 5 3 5 3 5 3 5 3 5 3]\n"
     ]
    }
   ],
   "source": [
    "print \"The schedule of all nurses: \"\n",
    "plot_table(schedule, figSize = (10, 4), saveFig = True)\n",
    "\n",
    "print \"The required nurses are: \"\n",
    "print r"
   ]
  },
  {
   "cell_type": "code",
   "execution_count": 52,
   "metadata": {
    "collapsed": false
   },
   "outputs": [
    {
     "name": "stdout",
     "output_type": "stream",
     "text": [
      "The schedule of nurses0\n"
     ]
    },
    {
     "data": {
      "image/png": "[encoded data removed]",
      "text/plain": [
       "<matplotlib.figure.Figure at 0x7f1447780a10>"
      ]
     },
     "metadata": {},
     "output_type": "display_data"
    },
    {
     "name": "stdout",
     "output_type": "stream",
     "text": [
      "The schedule of nurses1\n"
     ]
    },
    {
     "data": {
      "image/png": "[encoded data removed]",
      "text/plain": [
       "<matplotlib.figure.Figure at 0x7f1445a75cd0>"
      ]
     },
     "metadata": {},
     "output_type": "display_data"
    },
    {
     "name": "stdout",
     "output_type": "stream",
     "text": [
      "The schedule of nurses2\n"
     ]
    },
    {
     "data": {
      "image/png": "[encoded data removed]",
      "text/plain": [
       "<matplotlib.figure.Figure at 0x7f1445a75950>"
      ]
     },
     "metadata": {},
     "output_type": "display_data"
    },
    {
     "name": "stdout",
     "output_type": "stream",
     "text": [
      "The schedule of nurses3\n"
     ]
    },
    {
     "data": {
      "image/png": "[encoded data removed]",
      "text/plain": [
       "<matplotlib.figure.Figure at 0x7f14476cbb50>"
      ]
     },
     "metadata": {},
     "output_type": "display_data"
    },
    {
     "name": "stdout",
     "output_type": "stream",
     "text": [
      "The schedule of nurses4\n"
     ]
    },
    {
     "data": {
      "image/png": "[encoded data removed]",
      "text/plain": [
       "<matplotlib.figure.Figure at 0x7f1447584390>"
      ]
     },
     "metadata": {},
     "output_type": "display_data"
    },
    {
     "name": "stdout",
     "output_type": "stream",
     "text": [
      "The schedule of nurses5\n"
     ]
    },
    {
     "data": {
      "image/png": "[encoded data removed]",
      "text/plain": [
       "<matplotlib.figure.Figure at 0x7f14475063d0>"
      ]
     },
     "metadata": {},
     "output_type": "display_data"
    },
    {
     "name": "stdout",
     "output_type": "stream",
     "text": [
      "The schedule of nurses6\n"
     ]
    },
    {
     "data": {
      "image/png": "[encoded data removed]",
      "text/plain": [
       "<matplotlib.figure.Figure at 0x7f1447794050>"
      ]
     },
     "metadata": {},
     "output_type": "display_data"
    },
    {
     "name": "stdout",
     "output_type": "stream",
     "text": [
      "The schedule of nurses7\n"
     ]
    },
    {
     "data": {
      "image/png": "[encoded data removed]",
      "text/plain": [
       "<matplotlib.figure.Figure at 0x7f1447794250>"
      ]
     },
     "metadata": {},
     "output_type": "display_data"
    },
    {
     "name": "stdout",
     "output_type": "stream",
     "text": [
      "The schedule of nurses8\n"
     ]
    },
    {
     "data": {
      "image/png": "[encoded data removed]",
      "text/plain": [
       "<matplotlib.figure.Figure at 0x7f1447d4a150>"
      ]
     },
     "metadata": {},
     "output_type": "display_data"
    },
    {
     "name": "stdout",
     "output_type": "stream",
     "text": [
      "The schedule of nurses9\n"
     ]
    },
    {
     "data": {
      "image/png": "[encoded data removed]",
      "text/plain": [
       "<matplotlib.figure.Figure at 0x7f1447cf9950>"
      ]
     },
     "metadata": {},
     "output_type": "display_data"
    }
   ],
   "source": [
    "for n in nurses[:10]:\n",
    "    print 'The schedule of nurses' + str(n)\n",
    "    n0 = schedule_which_nurse(n)\n",
    "    plot_table(n0, saveFig = True, figTitle = 'nurse' + str(n))"
   ]
  },
  {
   "cell_type": "code",
   "execution_count": 53,
   "metadata": {
    "collapsed": false
   },
   "outputs": [
    {
     "name": "stdout",
     "output_type": "stream",
     "text": [
      "The schedule of nurses11\n"
     ]
    },
    {
     "data": {
      "image/png": "[encoded data removed]",
      "text/plain": [
       "<matplotlib.figure.Figure at 0x7f1447c9bb10>"
      ]
     },
     "metadata": {},
     "output_type": "display_data"
    },
    {
     "name": "stdout",
     "output_type": "stream",
     "text": [
      "The schedule of nurses12\n"
     ]
    },
    {
     "data": {
      "image/png": "[encoded data removed]",
      "text/plain": [
       "<matplotlib.figure.Figure at 0x7f1447db4fd0>"
      ]
     },
     "metadata": {},
     "output_type": "display_data"
    },
    {
     "name": "stdout",
     "output_type": "stream",
     "text": [
      "The schedule of nurses13\n"
     ]
    },
    {
     "data": {
      "image/png": "[encoded data removed]",
      "text/plain": [
       "<matplotlib.figure.Figure at 0x7f1447ce92d0>"
      ]
     },
     "metadata": {},
     "output_type": "display_data"
    },
    {
     "name": "stdout",
     "output_type": "stream",
     "text": [
      "The schedule of nurses14\n"
     ]
    },
    {
     "data": {
      "image/png": "[encoded data removed]",
      "text/plain": [
       "<matplotlib.figure.Figure at 0x7f1445bbb1d0>"
      ]
     },
     "metadata": {},
     "output_type": "display_data"
    },
    {
     "name": "stdout",
     "output_type": "stream",
     "text": [
      "The schedule of nurses15\n"
     ]
    },
    {
     "data": {
      "image/png": "[encoded data removed]",
      "text/plain": [
       "<matplotlib.figure.Figure at 0x7f14474a2cd0>"
      ]
     },
     "metadata": {},
     "output_type": "display_data"
    },
    {
     "name": "stdout",
     "output_type": "stream",
     "text": [
      "The schedule of nurses16\n"
     ]
    },
    {
     "data": {
      "image/png": "[encoded data removed]",
      "text/plain": [
       "<matplotlib.figure.Figure at 0x7f14474a26d0>"
      ]
     },
     "metadata": {},
     "output_type": "display_data"
    },
    {
     "name": "stdout",
     "output_type": "stream",
     "text": [
      "The schedule of nurses17\n"
     ]
    },
    {
     "data": {
      "image/png": "[encoded data removed]",
      "text/plain": [
       "<matplotlib.figure.Figure at 0x7f1447fd6dd0>"
      ]
     },
     "metadata": {},
     "output_type": "display_data"
    },
    {
     "name": "stdout",
     "output_type": "stream",
     "text": [
      "The schedule of nurses18\n"
     ]
    },
    {
     "data": {
      "image/png": "[encoded data removed]",
      "text/plain": [
       "<matplotlib.figure.Figure at 0x7f14474abe90>"
      ]
     },
     "metadata": {},
     "output_type": "display_data"
    },
    {
     "name": "stdout",
     "output_type": "stream",
     "text": [
      "The schedule of nurses19\n"
     ]
    },
    {
     "data": {
      "image/png": "[encoded data removed]",
      "text/plain": [
       "<matplotlib.figure.Figure at 0x7f1447ef1dd0>"
      ]
     },
     "metadata": {},
     "output_type": "display_data"
    }
   ],
   "source": [
    "for n in nurses[11:20]:\n",
    "    print 'The schedule of nurses' + str(n)\n",
    "    n0 = schedule_which_nurse(n)\n",
    "    plot_table(n0, saveFig = True, figTitle = 'nurse' + str(n))"
   ]
  },
  {
   "cell_type": "code",
   "execution_count": null,
   "metadata": {
    "collapsed": true
   },
   "outputs": [],
   "source": []
  },
  {
   "cell_type": "code",
   "execution_count": null,
   "metadata": {
    "collapsed": true
   },
   "outputs": [],
   "source": []
  }
 ],
 "metadata": {
  "anaconda-cloud": {},
  "kernelspec": {
   "display_name": "Python [conda root]",
   "language": "python",
   "name": "conda-root-py"
  },
  "language_info": {
   "codemirror_mode": {
    "name": "ipython",
    "version": 2
   },
   "file_extension": ".py",
   "mimetype": "text/x-python",
   "name": "python",
   "nbconvert_exporter": "python",
   "pygments_lexer": "ipython2",
   "version": "2.7.12"
  }
 },
 "nbformat": 4,
 "nbformat_minor": 1
}
